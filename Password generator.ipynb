{
 "cells": [
  {
   "cell_type": "code",
   "execution_count": 28,
   "id": "1184db31",
   "metadata": {},
   "outputs": [
    {
     "name": "stdout",
     "output_type": "stream",
     "text": [
      "Your Password is : wethistory99%\n"
     ]
    }
   ],
   "source": [
    "# Password picker from a list of nouns, adjectives, numbers and punctuations\n",
    "import random \n",
    "import string\n",
    "adjuctives = ['acidic', \"bitter\", 'corny', 'dizzy', 'happy']\n",
    "nouns = [\n",
    "    'people',\n",
    "    'history',\n",
    "    'way',\n",
    "    'art',\n",
    "    'world',\n",
    "    'information',\n",
    "    'map',\n",
    "    'two',\n",
    "    'family',\n",
    "    'government',\n",
    "    'health',\n",
    "    'system',\n",
    "    'computer',\n",
    "    'meat',\n",
    "    'year',\n",
    "    'thanks',]\n",
    "adjectives = random.choice(adjectives)\n",
    "nouns = random.choice(nouns)\n",
    "\n",
    "digits = random.randrange(0, 101)\n",
    "special_charactor = random.choice(string.punctuation)\n",
    "\n",
    "password = adjective + noun + str(digits) + special_charactor\n",
    "print(\"Your Password is : %s\" % password)"
   ]
  },
  {
   "cell_type": "code",
   "execution_count": null,
   "id": "8f529af4",
   "metadata": {},
   "outputs": [],
   "source": []
  }
 ],
 "metadata": {
  "kernelspec": {
   "display_name": "Python 3",
   "language": "python",
   "name": "python3"
  },
  "language_info": {
   "codemirror_mode": {
    "name": "ipython",
    "version": 3
   },
   "file_extension": ".py",
   "mimetype": "text/x-python",
   "name": "python",
   "nbconvert_exporter": "python",
   "pygments_lexer": "ipython3",
   "version": "3.8.8"
  }
 },
 "nbformat": 4,
 "nbformat_minor": 5
}
